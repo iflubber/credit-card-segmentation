{
 "cells": [
  {
   "cell_type": "markdown",
   "metadata": {},
   "source": [
    "# CASE STUDY - CREDIT CARD SEGMENTATION"
   ]
  },
  {
   "cell_type": "code",
   "execution_count": 45,
   "metadata": {},
   "outputs": [],
   "source": [
    "import pandas as pd\n",
    "from pandas import Series, DataFrame\n",
    "import numpy as np\n",
    "import matplotlib.pyplot as plt\n",
    "%matplotlib inline\n",
    "plt.rc(\"font\", size=16)\n",
    "import seaborn as sns\n",
    "sns.set(style=\"white\")\n",
    "sns.set(style=\"whitegrid\", color_codes=True)"
   ]
  },
  {
   "cell_type": "code",
   "execution_count": 2,
   "metadata": {},
   "outputs": [],
   "source": [
    "# Load the data\n",
    "cc_data = pd.read_csv( 'CC GENERAL.csv' )"
   ]
  },
  {
   "cell_type": "markdown",
   "metadata": {},
   "source": [
    "## EDA (Exploratory Data Analysis)"
   ]
  },
  {
   "cell_type": "code",
   "execution_count": 3,
   "metadata": {},
   "outputs": [
    {
     "data": {
      "text/plain": [
       "(8950, 18)"
      ]
     },
     "execution_count": 3,
     "metadata": {},
     "output_type": "execute_result"
    }
   ],
   "source": [
    "cc_data.shape"
   ]
  },
  {
   "cell_type": "code",
   "execution_count": 4,
   "metadata": {},
   "outputs": [
    {
     "data": {
      "text/plain": [
       "Index(['CUST_ID', 'BALANCE', 'BALANCE_FREQUENCY', 'PURCHASES',\n",
       "       'ONEOFF_PURCHASES', 'INSTALLMENTS_PURCHASES', 'CASH_ADVANCE',\n",
       "       'PURCHASES_FREQUENCY', 'ONEOFF_PURCHASES_FREQUENCY',\n",
       "       'PURCHASES_INSTALLMENTS_FREQUENCY', 'CASH_ADVANCE_FREQUENCY',\n",
       "       'CASH_ADVANCE_TRX', 'PURCHASES_TRX', 'CREDIT_LIMIT', 'PAYMENTS',\n",
       "       'MINIMUM_PAYMENTS', 'PRC_FULL_PAYMENT', 'TENURE'],\n",
       "      dtype='object')"
      ]
     },
     "execution_count": 4,
     "metadata": {},
     "output_type": "execute_result"
    }
   ],
   "source": [
    "cc_data.columns"
   ]
  },
  {
   "cell_type": "code",
   "execution_count": 5,
   "metadata": {},
   "outputs": [
    {
     "data": {
      "text/html": [
       "<div>\n",
       "<style scoped>\n",
       "    .dataframe tbody tr th:only-of-type {\n",
       "        vertical-align: middle;\n",
       "    }\n",
       "\n",
       "    .dataframe tbody tr th {\n",
       "        vertical-align: top;\n",
       "    }\n",
       "\n",
       "    .dataframe thead th {\n",
       "        text-align: right;\n",
       "    }\n",
       "</style>\n",
       "<table border=\"1\" class=\"dataframe\">\n",
       "  <thead>\n",
       "    <tr style=\"text-align: right;\">\n",
       "      <th></th>\n",
       "      <th>CUST_ID</th>\n",
       "      <th>BALANCE</th>\n",
       "      <th>BALANCE_FREQUENCY</th>\n",
       "      <th>PURCHASES</th>\n",
       "      <th>ONEOFF_PURCHASES</th>\n",
       "      <th>INSTALLMENTS_PURCHASES</th>\n",
       "      <th>CASH_ADVANCE</th>\n",
       "      <th>PURCHASES_FREQUENCY</th>\n",
       "      <th>ONEOFF_PURCHASES_FREQUENCY</th>\n",
       "      <th>PURCHASES_INSTALLMENTS_FREQUENCY</th>\n",
       "      <th>CASH_ADVANCE_FREQUENCY</th>\n",
       "      <th>CASH_ADVANCE_TRX</th>\n",
       "      <th>PURCHASES_TRX</th>\n",
       "      <th>CREDIT_LIMIT</th>\n",
       "      <th>PAYMENTS</th>\n",
       "      <th>MINIMUM_PAYMENTS</th>\n",
       "      <th>PRC_FULL_PAYMENT</th>\n",
       "      <th>TENURE</th>\n",
       "    </tr>\n",
       "  </thead>\n",
       "  <tbody>\n",
       "    <tr>\n",
       "      <th>0</th>\n",
       "      <td>C10001</td>\n",
       "      <td>40.900749</td>\n",
       "      <td>0.818182</td>\n",
       "      <td>95.40</td>\n",
       "      <td>0.00</td>\n",
       "      <td>95.4</td>\n",
       "      <td>0.000000</td>\n",
       "      <td>0.166667</td>\n",
       "      <td>0.000000</td>\n",
       "      <td>0.083333</td>\n",
       "      <td>0.000000</td>\n",
       "      <td>0</td>\n",
       "      <td>2</td>\n",
       "      <td>1000.0</td>\n",
       "      <td>201.802084</td>\n",
       "      <td>139.509787</td>\n",
       "      <td>0.000000</td>\n",
       "      <td>12</td>\n",
       "    </tr>\n",
       "    <tr>\n",
       "      <th>1</th>\n",
       "      <td>C10002</td>\n",
       "      <td>3202.467416</td>\n",
       "      <td>0.909091</td>\n",
       "      <td>0.00</td>\n",
       "      <td>0.00</td>\n",
       "      <td>0.0</td>\n",
       "      <td>6442.945483</td>\n",
       "      <td>0.000000</td>\n",
       "      <td>0.000000</td>\n",
       "      <td>0.000000</td>\n",
       "      <td>0.250000</td>\n",
       "      <td>4</td>\n",
       "      <td>0</td>\n",
       "      <td>7000.0</td>\n",
       "      <td>4103.032597</td>\n",
       "      <td>1072.340217</td>\n",
       "      <td>0.222222</td>\n",
       "      <td>12</td>\n",
       "    </tr>\n",
       "    <tr>\n",
       "      <th>2</th>\n",
       "      <td>C10003</td>\n",
       "      <td>2495.148862</td>\n",
       "      <td>1.000000</td>\n",
       "      <td>773.17</td>\n",
       "      <td>773.17</td>\n",
       "      <td>0.0</td>\n",
       "      <td>0.000000</td>\n",
       "      <td>1.000000</td>\n",
       "      <td>1.000000</td>\n",
       "      <td>0.000000</td>\n",
       "      <td>0.000000</td>\n",
       "      <td>0</td>\n",
       "      <td>12</td>\n",
       "      <td>7500.0</td>\n",
       "      <td>622.066742</td>\n",
       "      <td>627.284787</td>\n",
       "      <td>0.000000</td>\n",
       "      <td>12</td>\n",
       "    </tr>\n",
       "    <tr>\n",
       "      <th>3</th>\n",
       "      <td>C10004</td>\n",
       "      <td>1666.670542</td>\n",
       "      <td>0.636364</td>\n",
       "      <td>1499.00</td>\n",
       "      <td>1499.00</td>\n",
       "      <td>0.0</td>\n",
       "      <td>205.788017</td>\n",
       "      <td>0.083333</td>\n",
       "      <td>0.083333</td>\n",
       "      <td>0.000000</td>\n",
       "      <td>0.083333</td>\n",
       "      <td>1</td>\n",
       "      <td>1</td>\n",
       "      <td>7500.0</td>\n",
       "      <td>0.000000</td>\n",
       "      <td>NaN</td>\n",
       "      <td>0.000000</td>\n",
       "      <td>12</td>\n",
       "    </tr>\n",
       "    <tr>\n",
       "      <th>4</th>\n",
       "      <td>C10005</td>\n",
       "      <td>817.714335</td>\n",
       "      <td>1.000000</td>\n",
       "      <td>16.00</td>\n",
       "      <td>16.00</td>\n",
       "      <td>0.0</td>\n",
       "      <td>0.000000</td>\n",
       "      <td>0.083333</td>\n",
       "      <td>0.083333</td>\n",
       "      <td>0.000000</td>\n",
       "      <td>0.000000</td>\n",
       "      <td>0</td>\n",
       "      <td>1</td>\n",
       "      <td>1200.0</td>\n",
       "      <td>678.334763</td>\n",
       "      <td>244.791237</td>\n",
       "      <td>0.000000</td>\n",
       "      <td>12</td>\n",
       "    </tr>\n",
       "  </tbody>\n",
       "</table>\n",
       "</div>"
      ],
      "text/plain": [
       "  CUST_ID      BALANCE  BALANCE_FREQUENCY  PURCHASES  ONEOFF_PURCHASES  \\\n",
       "0  C10001    40.900749           0.818182      95.40              0.00   \n",
       "1  C10002  3202.467416           0.909091       0.00              0.00   \n",
       "2  C10003  2495.148862           1.000000     773.17            773.17   \n",
       "3  C10004  1666.670542           0.636364    1499.00           1499.00   \n",
       "4  C10005   817.714335           1.000000      16.00             16.00   \n",
       "\n",
       "   INSTALLMENTS_PURCHASES  CASH_ADVANCE  PURCHASES_FREQUENCY  \\\n",
       "0                    95.4      0.000000             0.166667   \n",
       "1                     0.0   6442.945483             0.000000   \n",
       "2                     0.0      0.000000             1.000000   \n",
       "3                     0.0    205.788017             0.083333   \n",
       "4                     0.0      0.000000             0.083333   \n",
       "\n",
       "   ONEOFF_PURCHASES_FREQUENCY  PURCHASES_INSTALLMENTS_FREQUENCY  \\\n",
       "0                    0.000000                          0.083333   \n",
       "1                    0.000000                          0.000000   \n",
       "2                    1.000000                          0.000000   \n",
       "3                    0.083333                          0.000000   \n",
       "4                    0.083333                          0.000000   \n",
       "\n",
       "   CASH_ADVANCE_FREQUENCY  CASH_ADVANCE_TRX  PURCHASES_TRX  CREDIT_LIMIT  \\\n",
       "0                0.000000                 0              2        1000.0   \n",
       "1                0.250000                 4              0        7000.0   \n",
       "2                0.000000                 0             12        7500.0   \n",
       "3                0.083333                 1              1        7500.0   \n",
       "4                0.000000                 0              1        1200.0   \n",
       "\n",
       "      PAYMENTS  MINIMUM_PAYMENTS  PRC_FULL_PAYMENT  TENURE  \n",
       "0   201.802084        139.509787          0.000000      12  \n",
       "1  4103.032597       1072.340217          0.222222      12  \n",
       "2   622.066742        627.284787          0.000000      12  \n",
       "3     0.000000               NaN          0.000000      12  \n",
       "4   678.334763        244.791237          0.000000      12  "
      ]
     },
     "execution_count": 5,
     "metadata": {},
     "output_type": "execute_result"
    }
   ],
   "source": [
    "cc_data.head()"
   ]
  },
  {
   "cell_type": "code",
   "execution_count": 6,
   "metadata": {},
   "outputs": [
    {
     "data": {
      "text/html": [
       "<div>\n",
       "<style scoped>\n",
       "    .dataframe tbody tr th:only-of-type {\n",
       "        vertical-align: middle;\n",
       "    }\n",
       "\n",
       "    .dataframe tbody tr th {\n",
       "        vertical-align: top;\n",
       "    }\n",
       "\n",
       "    .dataframe thead th {\n",
       "        text-align: right;\n",
       "    }\n",
       "</style>\n",
       "<table border=\"1\" class=\"dataframe\">\n",
       "  <thead>\n",
       "    <tr style=\"text-align: right;\">\n",
       "      <th></th>\n",
       "      <th>CUST_ID</th>\n",
       "      <th>BALANCE</th>\n",
       "      <th>BALANCE_FREQUENCY</th>\n",
       "      <th>PURCHASES</th>\n",
       "      <th>ONEOFF_PURCHASES</th>\n",
       "      <th>INSTALLMENTS_PURCHASES</th>\n",
       "      <th>CASH_ADVANCE</th>\n",
       "      <th>PURCHASES_FREQUENCY</th>\n",
       "      <th>ONEOFF_PURCHASES_FREQUENCY</th>\n",
       "      <th>PURCHASES_INSTALLMENTS_FREQUENCY</th>\n",
       "      <th>CASH_ADVANCE_FREQUENCY</th>\n",
       "      <th>CASH_ADVANCE_TRX</th>\n",
       "      <th>PURCHASES_TRX</th>\n",
       "      <th>CREDIT_LIMIT</th>\n",
       "      <th>PAYMENTS</th>\n",
       "      <th>MINIMUM_PAYMENTS</th>\n",
       "      <th>PRC_FULL_PAYMENT</th>\n",
       "      <th>TENURE</th>\n",
       "    </tr>\n",
       "  </thead>\n",
       "  <tbody>\n",
       "    <tr>\n",
       "      <th>8945</th>\n",
       "      <td>C19186</td>\n",
       "      <td>28.493517</td>\n",
       "      <td>1.000000</td>\n",
       "      <td>291.12</td>\n",
       "      <td>0.00</td>\n",
       "      <td>291.12</td>\n",
       "      <td>0.000000</td>\n",
       "      <td>1.000000</td>\n",
       "      <td>0.000000</td>\n",
       "      <td>0.833333</td>\n",
       "      <td>0.000000</td>\n",
       "      <td>0</td>\n",
       "      <td>6</td>\n",
       "      <td>1000.0</td>\n",
       "      <td>325.594462</td>\n",
       "      <td>48.886365</td>\n",
       "      <td>0.50</td>\n",
       "      <td>6</td>\n",
       "    </tr>\n",
       "    <tr>\n",
       "      <th>8946</th>\n",
       "      <td>C19187</td>\n",
       "      <td>19.183215</td>\n",
       "      <td>1.000000</td>\n",
       "      <td>300.00</td>\n",
       "      <td>0.00</td>\n",
       "      <td>300.00</td>\n",
       "      <td>0.000000</td>\n",
       "      <td>1.000000</td>\n",
       "      <td>0.000000</td>\n",
       "      <td>0.833333</td>\n",
       "      <td>0.000000</td>\n",
       "      <td>0</td>\n",
       "      <td>6</td>\n",
       "      <td>1000.0</td>\n",
       "      <td>275.861322</td>\n",
       "      <td>NaN</td>\n",
       "      <td>0.00</td>\n",
       "      <td>6</td>\n",
       "    </tr>\n",
       "    <tr>\n",
       "      <th>8947</th>\n",
       "      <td>C19188</td>\n",
       "      <td>23.398673</td>\n",
       "      <td>0.833333</td>\n",
       "      <td>144.40</td>\n",
       "      <td>0.00</td>\n",
       "      <td>144.40</td>\n",
       "      <td>0.000000</td>\n",
       "      <td>0.833333</td>\n",
       "      <td>0.000000</td>\n",
       "      <td>0.666667</td>\n",
       "      <td>0.000000</td>\n",
       "      <td>0</td>\n",
       "      <td>5</td>\n",
       "      <td>1000.0</td>\n",
       "      <td>81.270775</td>\n",
       "      <td>82.418369</td>\n",
       "      <td>0.25</td>\n",
       "      <td>6</td>\n",
       "    </tr>\n",
       "    <tr>\n",
       "      <th>8948</th>\n",
       "      <td>C19189</td>\n",
       "      <td>13.457564</td>\n",
       "      <td>0.833333</td>\n",
       "      <td>0.00</td>\n",
       "      <td>0.00</td>\n",
       "      <td>0.00</td>\n",
       "      <td>36.558778</td>\n",
       "      <td>0.000000</td>\n",
       "      <td>0.000000</td>\n",
       "      <td>0.000000</td>\n",
       "      <td>0.166667</td>\n",
       "      <td>2</td>\n",
       "      <td>0</td>\n",
       "      <td>500.0</td>\n",
       "      <td>52.549959</td>\n",
       "      <td>55.755628</td>\n",
       "      <td>0.25</td>\n",
       "      <td>6</td>\n",
       "    </tr>\n",
       "    <tr>\n",
       "      <th>8949</th>\n",
       "      <td>C19190</td>\n",
       "      <td>372.708075</td>\n",
       "      <td>0.666667</td>\n",
       "      <td>1093.25</td>\n",
       "      <td>1093.25</td>\n",
       "      <td>0.00</td>\n",
       "      <td>127.040008</td>\n",
       "      <td>0.666667</td>\n",
       "      <td>0.666667</td>\n",
       "      <td>0.000000</td>\n",
       "      <td>0.333333</td>\n",
       "      <td>2</td>\n",
       "      <td>23</td>\n",
       "      <td>1200.0</td>\n",
       "      <td>63.165404</td>\n",
       "      <td>88.288956</td>\n",
       "      <td>0.00</td>\n",
       "      <td>6</td>\n",
       "    </tr>\n",
       "  </tbody>\n",
       "</table>\n",
       "</div>"
      ],
      "text/plain": [
       "     CUST_ID     BALANCE  BALANCE_FREQUENCY  PURCHASES  ONEOFF_PURCHASES  \\\n",
       "8945  C19186   28.493517           1.000000     291.12              0.00   \n",
       "8946  C19187   19.183215           1.000000     300.00              0.00   \n",
       "8947  C19188   23.398673           0.833333     144.40              0.00   \n",
       "8948  C19189   13.457564           0.833333       0.00              0.00   \n",
       "8949  C19190  372.708075           0.666667    1093.25           1093.25   \n",
       "\n",
       "      INSTALLMENTS_PURCHASES  CASH_ADVANCE  PURCHASES_FREQUENCY  \\\n",
       "8945                  291.12      0.000000             1.000000   \n",
       "8946                  300.00      0.000000             1.000000   \n",
       "8947                  144.40      0.000000             0.833333   \n",
       "8948                    0.00     36.558778             0.000000   \n",
       "8949                    0.00    127.040008             0.666667   \n",
       "\n",
       "      ONEOFF_PURCHASES_FREQUENCY  PURCHASES_INSTALLMENTS_FREQUENCY  \\\n",
       "8945                    0.000000                          0.833333   \n",
       "8946                    0.000000                          0.833333   \n",
       "8947                    0.000000                          0.666667   \n",
       "8948                    0.000000                          0.000000   \n",
       "8949                    0.666667                          0.000000   \n",
       "\n",
       "      CASH_ADVANCE_FREQUENCY  CASH_ADVANCE_TRX  PURCHASES_TRX  CREDIT_LIMIT  \\\n",
       "8945                0.000000                 0              6        1000.0   \n",
       "8946                0.000000                 0              6        1000.0   \n",
       "8947                0.000000                 0              5        1000.0   \n",
       "8948                0.166667                 2              0         500.0   \n",
       "8949                0.333333                 2             23        1200.0   \n",
       "\n",
       "        PAYMENTS  MINIMUM_PAYMENTS  PRC_FULL_PAYMENT  TENURE  \n",
       "8945  325.594462         48.886365              0.50       6  \n",
       "8946  275.861322               NaN              0.00       6  \n",
       "8947   81.270775         82.418369              0.25       6  \n",
       "8948   52.549959         55.755628              0.25       6  \n",
       "8949   63.165404         88.288956              0.00       6  "
      ]
     },
     "execution_count": 6,
     "metadata": {},
     "output_type": "execute_result"
    }
   ],
   "source": [
    "cc_data.tail()"
   ]
  },
  {
   "cell_type": "markdown",
   "metadata": {},
   "source": [
    "The data summarizes the CC usage behavior of 8950 active credit card holders for a 6 months period, with 18 behavioral variables."
   ]
  },
  {
   "cell_type": "code",
   "execution_count": 7,
   "metadata": {},
   "outputs": [
    {
     "name": "stdout",
     "output_type": "stream",
     "text": [
      "<class 'pandas.core.frame.DataFrame'>\n",
      "RangeIndex: 8950 entries, 0 to 8949\n",
      "Data columns (total 18 columns):\n",
      "CUST_ID                             8950 non-null object\n",
      "BALANCE                             8950 non-null float64\n",
      "BALANCE_FREQUENCY                   8950 non-null float64\n",
      "PURCHASES                           8950 non-null float64\n",
      "ONEOFF_PURCHASES                    8950 non-null float64\n",
      "INSTALLMENTS_PURCHASES              8950 non-null float64\n",
      "CASH_ADVANCE                        8950 non-null float64\n",
      "PURCHASES_FREQUENCY                 8950 non-null float64\n",
      "ONEOFF_PURCHASES_FREQUENCY          8950 non-null float64\n",
      "PURCHASES_INSTALLMENTS_FREQUENCY    8950 non-null float64\n",
      "CASH_ADVANCE_FREQUENCY              8950 non-null float64\n",
      "CASH_ADVANCE_TRX                    8950 non-null int64\n",
      "PURCHASES_TRX                       8950 non-null int64\n",
      "CREDIT_LIMIT                        8949 non-null float64\n",
      "PAYMENTS                            8950 non-null float64\n",
      "MINIMUM_PAYMENTS                    8637 non-null float64\n",
      "PRC_FULL_PAYMENT                    8950 non-null float64\n",
      "TENURE                              8950 non-null int64\n",
      "dtypes: float64(14), int64(3), object(1)\n",
      "memory usage: 1.2+ MB\n"
     ]
    }
   ],
   "source": [
    "cc_data.info()"
   ]
  },
  {
   "cell_type": "code",
   "execution_count": 8,
   "metadata": {},
   "outputs": [
    {
     "data": {
      "text/html": [
       "<div>\n",
       "<style scoped>\n",
       "    .dataframe tbody tr th:only-of-type {\n",
       "        vertical-align: middle;\n",
       "    }\n",
       "\n",
       "    .dataframe tbody tr th {\n",
       "        vertical-align: top;\n",
       "    }\n",
       "\n",
       "    .dataframe thead th {\n",
       "        text-align: right;\n",
       "    }\n",
       "</style>\n",
       "<table border=\"1\" class=\"dataframe\">\n",
       "  <thead>\n",
       "    <tr style=\"text-align: right;\">\n",
       "      <th></th>\n",
       "      <th>count</th>\n",
       "      <th>mean</th>\n",
       "      <th>std</th>\n",
       "      <th>min</th>\n",
       "      <th>25%</th>\n",
       "      <th>50%</th>\n",
       "      <th>75%</th>\n",
       "      <th>max</th>\n",
       "    </tr>\n",
       "  </thead>\n",
       "  <tbody>\n",
       "    <tr>\n",
       "      <th>BALANCE</th>\n",
       "      <td>8950.0</td>\n",
       "      <td>1564.474828</td>\n",
       "      <td>2081.531879</td>\n",
       "      <td>0.000000</td>\n",
       "      <td>128.281915</td>\n",
       "      <td>873.385231</td>\n",
       "      <td>2054.140036</td>\n",
       "      <td>19043.13856</td>\n",
       "    </tr>\n",
       "    <tr>\n",
       "      <th>BALANCE_FREQUENCY</th>\n",
       "      <td>8950.0</td>\n",
       "      <td>0.877271</td>\n",
       "      <td>0.236904</td>\n",
       "      <td>0.000000</td>\n",
       "      <td>0.888889</td>\n",
       "      <td>1.000000</td>\n",
       "      <td>1.000000</td>\n",
       "      <td>1.00000</td>\n",
       "    </tr>\n",
       "    <tr>\n",
       "      <th>PURCHASES</th>\n",
       "      <td>8950.0</td>\n",
       "      <td>1003.204834</td>\n",
       "      <td>2136.634782</td>\n",
       "      <td>0.000000</td>\n",
       "      <td>39.635000</td>\n",
       "      <td>361.280000</td>\n",
       "      <td>1110.130000</td>\n",
       "      <td>49039.57000</td>\n",
       "    </tr>\n",
       "    <tr>\n",
       "      <th>ONEOFF_PURCHASES</th>\n",
       "      <td>8950.0</td>\n",
       "      <td>592.437371</td>\n",
       "      <td>1659.887917</td>\n",
       "      <td>0.000000</td>\n",
       "      <td>0.000000</td>\n",
       "      <td>38.000000</td>\n",
       "      <td>577.405000</td>\n",
       "      <td>40761.25000</td>\n",
       "    </tr>\n",
       "    <tr>\n",
       "      <th>INSTALLMENTS_PURCHASES</th>\n",
       "      <td>8950.0</td>\n",
       "      <td>411.067645</td>\n",
       "      <td>904.338115</td>\n",
       "      <td>0.000000</td>\n",
       "      <td>0.000000</td>\n",
       "      <td>89.000000</td>\n",
       "      <td>468.637500</td>\n",
       "      <td>22500.00000</td>\n",
       "    </tr>\n",
       "    <tr>\n",
       "      <th>CASH_ADVANCE</th>\n",
       "      <td>8950.0</td>\n",
       "      <td>978.871112</td>\n",
       "      <td>2097.163877</td>\n",
       "      <td>0.000000</td>\n",
       "      <td>0.000000</td>\n",
       "      <td>0.000000</td>\n",
       "      <td>1113.821139</td>\n",
       "      <td>47137.21176</td>\n",
       "    </tr>\n",
       "    <tr>\n",
       "      <th>PURCHASES_FREQUENCY</th>\n",
       "      <td>8950.0</td>\n",
       "      <td>0.490351</td>\n",
       "      <td>0.401371</td>\n",
       "      <td>0.000000</td>\n",
       "      <td>0.083333</td>\n",
       "      <td>0.500000</td>\n",
       "      <td>0.916667</td>\n",
       "      <td>1.00000</td>\n",
       "    </tr>\n",
       "    <tr>\n",
       "      <th>ONEOFF_PURCHASES_FREQUENCY</th>\n",
       "      <td>8950.0</td>\n",
       "      <td>0.202458</td>\n",
       "      <td>0.298336</td>\n",
       "      <td>0.000000</td>\n",
       "      <td>0.000000</td>\n",
       "      <td>0.083333</td>\n",
       "      <td>0.300000</td>\n",
       "      <td>1.00000</td>\n",
       "    </tr>\n",
       "    <tr>\n",
       "      <th>PURCHASES_INSTALLMENTS_FREQUENCY</th>\n",
       "      <td>8950.0</td>\n",
       "      <td>0.364437</td>\n",
       "      <td>0.397448</td>\n",
       "      <td>0.000000</td>\n",
       "      <td>0.000000</td>\n",
       "      <td>0.166667</td>\n",
       "      <td>0.750000</td>\n",
       "      <td>1.00000</td>\n",
       "    </tr>\n",
       "    <tr>\n",
       "      <th>CASH_ADVANCE_FREQUENCY</th>\n",
       "      <td>8950.0</td>\n",
       "      <td>0.135144</td>\n",
       "      <td>0.200121</td>\n",
       "      <td>0.000000</td>\n",
       "      <td>0.000000</td>\n",
       "      <td>0.000000</td>\n",
       "      <td>0.222222</td>\n",
       "      <td>1.50000</td>\n",
       "    </tr>\n",
       "    <tr>\n",
       "      <th>CASH_ADVANCE_TRX</th>\n",
       "      <td>8950.0</td>\n",
       "      <td>3.248827</td>\n",
       "      <td>6.824647</td>\n",
       "      <td>0.000000</td>\n",
       "      <td>0.000000</td>\n",
       "      <td>0.000000</td>\n",
       "      <td>4.000000</td>\n",
       "      <td>123.00000</td>\n",
       "    </tr>\n",
       "    <tr>\n",
       "      <th>PURCHASES_TRX</th>\n",
       "      <td>8950.0</td>\n",
       "      <td>14.709832</td>\n",
       "      <td>24.857649</td>\n",
       "      <td>0.000000</td>\n",
       "      <td>1.000000</td>\n",
       "      <td>7.000000</td>\n",
       "      <td>17.000000</td>\n",
       "      <td>358.00000</td>\n",
       "    </tr>\n",
       "    <tr>\n",
       "      <th>CREDIT_LIMIT</th>\n",
       "      <td>8949.0</td>\n",
       "      <td>4494.449450</td>\n",
       "      <td>3638.815725</td>\n",
       "      <td>50.000000</td>\n",
       "      <td>1600.000000</td>\n",
       "      <td>3000.000000</td>\n",
       "      <td>6500.000000</td>\n",
       "      <td>30000.00000</td>\n",
       "    </tr>\n",
       "    <tr>\n",
       "      <th>PAYMENTS</th>\n",
       "      <td>8950.0</td>\n",
       "      <td>1733.143852</td>\n",
       "      <td>2895.063757</td>\n",
       "      <td>0.000000</td>\n",
       "      <td>383.276166</td>\n",
       "      <td>856.901546</td>\n",
       "      <td>1901.134317</td>\n",
       "      <td>50721.48336</td>\n",
       "    </tr>\n",
       "    <tr>\n",
       "      <th>MINIMUM_PAYMENTS</th>\n",
       "      <td>8637.0</td>\n",
       "      <td>864.206542</td>\n",
       "      <td>2372.446607</td>\n",
       "      <td>0.019163</td>\n",
       "      <td>169.123707</td>\n",
       "      <td>312.343947</td>\n",
       "      <td>825.485459</td>\n",
       "      <td>76406.20752</td>\n",
       "    </tr>\n",
       "    <tr>\n",
       "      <th>PRC_FULL_PAYMENT</th>\n",
       "      <td>8950.0</td>\n",
       "      <td>0.153715</td>\n",
       "      <td>0.292499</td>\n",
       "      <td>0.000000</td>\n",
       "      <td>0.000000</td>\n",
       "      <td>0.000000</td>\n",
       "      <td>0.142857</td>\n",
       "      <td>1.00000</td>\n",
       "    </tr>\n",
       "    <tr>\n",
       "      <th>TENURE</th>\n",
       "      <td>8950.0</td>\n",
       "      <td>11.517318</td>\n",
       "      <td>1.338331</td>\n",
       "      <td>6.000000</td>\n",
       "      <td>12.000000</td>\n",
       "      <td>12.000000</td>\n",
       "      <td>12.000000</td>\n",
       "      <td>12.00000</td>\n",
       "    </tr>\n",
       "  </tbody>\n",
       "</table>\n",
       "</div>"
      ],
      "text/plain": [
       "                                   count         mean          std        min  \\\n",
       "BALANCE                           8950.0  1564.474828  2081.531879   0.000000   \n",
       "BALANCE_FREQUENCY                 8950.0     0.877271     0.236904   0.000000   \n",
       "PURCHASES                         8950.0  1003.204834  2136.634782   0.000000   \n",
       "ONEOFF_PURCHASES                  8950.0   592.437371  1659.887917   0.000000   \n",
       "INSTALLMENTS_PURCHASES            8950.0   411.067645   904.338115   0.000000   \n",
       "CASH_ADVANCE                      8950.0   978.871112  2097.163877   0.000000   \n",
       "PURCHASES_FREQUENCY               8950.0     0.490351     0.401371   0.000000   \n",
       "ONEOFF_PURCHASES_FREQUENCY        8950.0     0.202458     0.298336   0.000000   \n",
       "PURCHASES_INSTALLMENTS_FREQUENCY  8950.0     0.364437     0.397448   0.000000   \n",
       "CASH_ADVANCE_FREQUENCY            8950.0     0.135144     0.200121   0.000000   \n",
       "CASH_ADVANCE_TRX                  8950.0     3.248827     6.824647   0.000000   \n",
       "PURCHASES_TRX                     8950.0    14.709832    24.857649   0.000000   \n",
       "CREDIT_LIMIT                      8949.0  4494.449450  3638.815725  50.000000   \n",
       "PAYMENTS                          8950.0  1733.143852  2895.063757   0.000000   \n",
       "MINIMUM_PAYMENTS                  8637.0   864.206542  2372.446607   0.019163   \n",
       "PRC_FULL_PAYMENT                  8950.0     0.153715     0.292499   0.000000   \n",
       "TENURE                            8950.0    11.517318     1.338331   6.000000   \n",
       "\n",
       "                                          25%          50%          75%  \\\n",
       "BALANCE                            128.281915   873.385231  2054.140036   \n",
       "BALANCE_FREQUENCY                    0.888889     1.000000     1.000000   \n",
       "PURCHASES                           39.635000   361.280000  1110.130000   \n",
       "ONEOFF_PURCHASES                     0.000000    38.000000   577.405000   \n",
       "INSTALLMENTS_PURCHASES               0.000000    89.000000   468.637500   \n",
       "CASH_ADVANCE                         0.000000     0.000000  1113.821139   \n",
       "PURCHASES_FREQUENCY                  0.083333     0.500000     0.916667   \n",
       "ONEOFF_PURCHASES_FREQUENCY           0.000000     0.083333     0.300000   \n",
       "PURCHASES_INSTALLMENTS_FREQUENCY     0.000000     0.166667     0.750000   \n",
       "CASH_ADVANCE_FREQUENCY               0.000000     0.000000     0.222222   \n",
       "CASH_ADVANCE_TRX                     0.000000     0.000000     4.000000   \n",
       "PURCHASES_TRX                        1.000000     7.000000    17.000000   \n",
       "CREDIT_LIMIT                      1600.000000  3000.000000  6500.000000   \n",
       "PAYMENTS                           383.276166   856.901546  1901.134317   \n",
       "MINIMUM_PAYMENTS                   169.123707   312.343947   825.485459   \n",
       "PRC_FULL_PAYMENT                     0.000000     0.000000     0.142857   \n",
       "TENURE                              12.000000    12.000000    12.000000   \n",
       "\n",
       "                                          max  \n",
       "BALANCE                           19043.13856  \n",
       "BALANCE_FREQUENCY                     1.00000  \n",
       "PURCHASES                         49039.57000  \n",
       "ONEOFF_PURCHASES                  40761.25000  \n",
       "INSTALLMENTS_PURCHASES            22500.00000  \n",
       "CASH_ADVANCE                      47137.21176  \n",
       "PURCHASES_FREQUENCY                   1.00000  \n",
       "ONEOFF_PURCHASES_FREQUENCY            1.00000  \n",
       "PURCHASES_INSTALLMENTS_FREQUENCY      1.00000  \n",
       "CASH_ADVANCE_FREQUENCY                1.50000  \n",
       "CASH_ADVANCE_TRX                    123.00000  \n",
       "PURCHASES_TRX                       358.00000  \n",
       "CREDIT_LIMIT                      30000.00000  \n",
       "PAYMENTS                          50721.48336  \n",
       "MINIMUM_PAYMENTS                  76406.20752  \n",
       "PRC_FULL_PAYMENT                      1.00000  \n",
       "TENURE                               12.00000  "
      ]
     },
     "execution_count": 8,
     "metadata": {},
     "output_type": "execute_result"
    }
   ],
   "source": [
    "cc_data.describe().T"
   ]
  },
  {
   "cell_type": "markdown",
   "metadata": {},
   "source": [
    "1. Monthly Average Balance is about 1500 with 50% of the customers maintaining MAB well below the mean and the top 25% customers maintaining MAB of above 2000. This indicates that the data is skewed towards thw 25% high spending customers\n",
    "2. This can also be seen in the last 12 months purchase spends where the top 25% customers have made high value purchases\n",
    "3. Cash Advances have contributed most towards the Credit Card Spends\n",
    "4. Only 25% customers are making atleast 1 purchase every month\n",
    "5. Installments purchases are the most frequent\n",
    "6. Median credit limit is 3000 and mean credit card limit is ~4500\n",
    "7. Average minimum due is ~864 and average payments done is ~1700. Looks like most customers are paying more than the minimum due\n",
    "8. However, full payment is very rare and 75% customers haven't done full payment in this period\n",
    "9. An average customer is at least an year old"
   ]
  },
  {
   "cell_type": "code",
   "execution_count": 9,
   "metadata": {},
   "outputs": [
    {
     "data": {
      "text/plain": [
       "2"
      ]
     },
     "execution_count": 9,
     "metadata": {},
     "output_type": "execute_result"
    }
   ],
   "source": [
    "# check for missing values\n",
    "cc_data.isnull().any().sum()"
   ]
  },
  {
   "cell_type": "code",
   "execution_count": 12,
   "metadata": {},
   "outputs": [
    {
     "data": {
      "text/plain": [
       "CUST_ID                               0\n",
       "BALANCE                               0\n",
       "BALANCE_FREQUENCY                     0\n",
       "PURCHASES                             0\n",
       "ONEOFF_PURCHASES                      0\n",
       "INSTALLMENTS_PURCHASES                0\n",
       "CASH_ADVANCE                          0\n",
       "PURCHASES_FREQUENCY                   0\n",
       "ONEOFF_PURCHASES_FREQUENCY            0\n",
       "PURCHASES_INSTALLMENTS_FREQUENCY      0\n",
       "CASH_ADVANCE_FREQUENCY                0\n",
       "CASH_ADVANCE_TRX                      0\n",
       "PURCHASES_TRX                         0\n",
       "CREDIT_LIMIT                          1\n",
       "PAYMENTS                              0\n",
       "MINIMUM_PAYMENTS                    313\n",
       "PRC_FULL_PAYMENT                      0\n",
       "TENURE                                0\n",
       "dtype: int64"
      ]
     },
     "execution_count": 12,
     "metadata": {},
     "output_type": "execute_result"
    }
   ],
   "source": [
    "cc_data.isnull().sum()"
   ]
  },
  {
   "cell_type": "markdown",
   "metadata": {},
   "source": [
    "1. We have 1 missing value under CREDIT_LIMIT. We can impute the same with median\n",
    "2. We have 313 missing values under MINIMUM_PAYMENTS. We will impute these with 25%*PAYMENTS"
   ]
  },
  {
   "cell_type": "code",
   "execution_count": 13,
   "metadata": {},
   "outputs": [],
   "source": [
    "# impute missing values\n",
    "cc_data.CREDIT_LIMIT.fillna(cc_data.CREDIT_LIMIT.mean(), inplace=True)"
   ]
  },
  {
   "cell_type": "code",
   "execution_count": 15,
   "metadata": {},
   "outputs": [],
   "source": [
    "cc_data.MINIMUM_PAYMENTS.fillna(0.25*cc_data.PAYMENTS, inplace=True)"
   ]
  },
  {
   "cell_type": "code",
   "execution_count": 16,
   "metadata": {},
   "outputs": [
    {
     "data": {
      "text/plain": [
       "CUST_ID                             0\n",
       "BALANCE                             0\n",
       "BALANCE_FREQUENCY                   0\n",
       "PURCHASES                           0\n",
       "ONEOFF_PURCHASES                    0\n",
       "INSTALLMENTS_PURCHASES              0\n",
       "CASH_ADVANCE                        0\n",
       "PURCHASES_FREQUENCY                 0\n",
       "ONEOFF_PURCHASES_FREQUENCY          0\n",
       "PURCHASES_INSTALLMENTS_FREQUENCY    0\n",
       "CASH_ADVANCE_FREQUENCY              0\n",
       "CASH_ADVANCE_TRX                    0\n",
       "PURCHASES_TRX                       0\n",
       "CREDIT_LIMIT                        0\n",
       "PAYMENTS                            0\n",
       "MINIMUM_PAYMENTS                    0\n",
       "PRC_FULL_PAYMENT                    0\n",
       "TENURE                              0\n",
       "dtype: int64"
      ]
     },
     "execution_count": 16,
     "metadata": {},
     "output_type": "execute_result"
    }
   ],
   "source": [
    "cc_data.isnull().sum()"
   ]
  },
  {
   "cell_type": "markdown",
   "metadata": {},
   "source": [
    "## Derived Features: New Calculated KPIs"
   ]
  },
  {
   "cell_type": "code",
   "execution_count": 17,
   "metadata": {},
   "outputs": [],
   "source": [
    "cc_data['MONTHLY_AVG_PURCHASE'] = cc_data['PURCHASES']/cc_data['TENURE']\n",
    "cc_data['MONTHLY_AVG_CASH_ADVANCE'] = cc_data['CASH_ADVANCE']/cc_data['TENURE']\n",
    "cc_data['PURCHASE_COUNT_BY_TYPE_ONE_OFF'] = np.where(cc_data['ONEOFF_PURCHASES']>0,1,0)\n",
    "cc_data['PURCHASE_COUNT_BY_TYPE_INSTALLMENT'] = np.where(cc_data['INSTALLMENTS_PURCHASES']>0,1,0)\n",
    "cc_data['PURCHASE_COUNT_BY_TYPE_BOTH'] = np.where(cc_data['PURCHASE_COUNT_BY_TYPE_ONE_OFF']+cc_data['PURCHASE_COUNT_BY_TYPE_INSTALLMENT'] > 2,1,0)\n",
    "cc_data['CASH_ADVANCE_COUNT'] = np.where(cc_data['CASH_ADVANCE']>0,1,0)\n",
    "cc_data['LIMIT_USAGE'] = np.where(cc_data['CREDIT_LIMIT']== 0, 0,cc_data['BALANCE']/cc_data['CREDIT_LIMIT'])\n",
    "cc_data['PAYMENT_RATIO'] = np.where(cc_data['MINIMUM_PAYMENTS']== 0, 0, cc_data['PAYMENTS']/cc_data['MINIMUM_PAYMENTS'])"
   ]
  },
  {
   "cell_type": "code",
   "execution_count": 18,
   "metadata": {},
   "outputs": [
    {
     "data": {
      "text/html": [
       "<div>\n",
       "<style scoped>\n",
       "    .dataframe tbody tr th:only-of-type {\n",
       "        vertical-align: middle;\n",
       "    }\n",
       "\n",
       "    .dataframe tbody tr th {\n",
       "        vertical-align: top;\n",
       "    }\n",
       "\n",
       "    .dataframe thead th {\n",
       "        text-align: right;\n",
       "    }\n",
       "</style>\n",
       "<table border=\"1\" class=\"dataframe\">\n",
       "  <thead>\n",
       "    <tr style=\"text-align: right;\">\n",
       "      <th></th>\n",
       "      <th>CUST_ID</th>\n",
       "      <th>BALANCE</th>\n",
       "      <th>BALANCE_FREQUENCY</th>\n",
       "      <th>PURCHASES</th>\n",
       "      <th>ONEOFF_PURCHASES</th>\n",
       "      <th>INSTALLMENTS_PURCHASES</th>\n",
       "      <th>CASH_ADVANCE</th>\n",
       "      <th>PURCHASES_FREQUENCY</th>\n",
       "      <th>ONEOFF_PURCHASES_FREQUENCY</th>\n",
       "      <th>PURCHASES_INSTALLMENTS_FREQUENCY</th>\n",
       "      <th>...</th>\n",
       "      <th>PRC_FULL_PAYMENT</th>\n",
       "      <th>TENURE</th>\n",
       "      <th>MONTHLY_AVG_PURCHASE</th>\n",
       "      <th>MONTHLY_AVG_CASH_ADVANCE</th>\n",
       "      <th>PURCHASE_COUNT_BY_TYPE_ONE_OFF</th>\n",
       "      <th>PURCHASE_COUNT_BY_TYPE_INSTALLMENT</th>\n",
       "      <th>PURCHASE_COUNT_BY_TYPE_BOTH</th>\n",
       "      <th>CASH_ADVANCE_COUNT</th>\n",
       "      <th>LIMIT_USAGE</th>\n",
       "      <th>PAYMENT_RATIO</th>\n",
       "    </tr>\n",
       "  </thead>\n",
       "  <tbody>\n",
       "    <tr>\n",
       "      <th>0</th>\n",
       "      <td>C10001</td>\n",
       "      <td>40.900749</td>\n",
       "      <td>0.818182</td>\n",
       "      <td>95.40</td>\n",
       "      <td>0.00</td>\n",
       "      <td>95.4</td>\n",
       "      <td>0.000000</td>\n",
       "      <td>0.166667</td>\n",
       "      <td>0.000000</td>\n",
       "      <td>0.083333</td>\n",
       "      <td>...</td>\n",
       "      <td>0.000000</td>\n",
       "      <td>12</td>\n",
       "      <td>7.950000</td>\n",
       "      <td>0.000000</td>\n",
       "      <td>0</td>\n",
       "      <td>1</td>\n",
       "      <td>0</td>\n",
       "      <td>0</td>\n",
       "      <td>0.040901</td>\n",
       "      <td>1.446508</td>\n",
       "    </tr>\n",
       "    <tr>\n",
       "      <th>1</th>\n",
       "      <td>C10002</td>\n",
       "      <td>3202.467416</td>\n",
       "      <td>0.909091</td>\n",
       "      <td>0.00</td>\n",
       "      <td>0.00</td>\n",
       "      <td>0.0</td>\n",
       "      <td>6442.945483</td>\n",
       "      <td>0.000000</td>\n",
       "      <td>0.000000</td>\n",
       "      <td>0.000000</td>\n",
       "      <td>...</td>\n",
       "      <td>0.222222</td>\n",
       "      <td>12</td>\n",
       "      <td>0.000000</td>\n",
       "      <td>536.912124</td>\n",
       "      <td>0</td>\n",
       "      <td>0</td>\n",
       "      <td>0</td>\n",
       "      <td>1</td>\n",
       "      <td>0.457495</td>\n",
       "      <td>3.826241</td>\n",
       "    </tr>\n",
       "    <tr>\n",
       "      <th>2</th>\n",
       "      <td>C10003</td>\n",
       "      <td>2495.148862</td>\n",
       "      <td>1.000000</td>\n",
       "      <td>773.17</td>\n",
       "      <td>773.17</td>\n",
       "      <td>0.0</td>\n",
       "      <td>0.000000</td>\n",
       "      <td>1.000000</td>\n",
       "      <td>1.000000</td>\n",
       "      <td>0.000000</td>\n",
       "      <td>...</td>\n",
       "      <td>0.000000</td>\n",
       "      <td>12</td>\n",
       "      <td>64.430833</td>\n",
       "      <td>0.000000</td>\n",
       "      <td>1</td>\n",
       "      <td>0</td>\n",
       "      <td>0</td>\n",
       "      <td>0</td>\n",
       "      <td>0.332687</td>\n",
       "      <td>0.991682</td>\n",
       "    </tr>\n",
       "    <tr>\n",
       "      <th>3</th>\n",
       "      <td>C10004</td>\n",
       "      <td>1666.670542</td>\n",
       "      <td>0.636364</td>\n",
       "      <td>1499.00</td>\n",
       "      <td>1499.00</td>\n",
       "      <td>0.0</td>\n",
       "      <td>205.788017</td>\n",
       "      <td>0.083333</td>\n",
       "      <td>0.083333</td>\n",
       "      <td>0.000000</td>\n",
       "      <td>...</td>\n",
       "      <td>0.000000</td>\n",
       "      <td>12</td>\n",
       "      <td>124.916667</td>\n",
       "      <td>17.149001</td>\n",
       "      <td>1</td>\n",
       "      <td>0</td>\n",
       "      <td>0</td>\n",
       "      <td>1</td>\n",
       "      <td>0.222223</td>\n",
       "      <td>0.000000</td>\n",
       "    </tr>\n",
       "    <tr>\n",
       "      <th>4</th>\n",
       "      <td>C10005</td>\n",
       "      <td>817.714335</td>\n",
       "      <td>1.000000</td>\n",
       "      <td>16.00</td>\n",
       "      <td>16.00</td>\n",
       "      <td>0.0</td>\n",
       "      <td>0.000000</td>\n",
       "      <td>0.083333</td>\n",
       "      <td>0.083333</td>\n",
       "      <td>0.000000</td>\n",
       "      <td>...</td>\n",
       "      <td>0.000000</td>\n",
       "      <td>12</td>\n",
       "      <td>1.333333</td>\n",
       "      <td>0.000000</td>\n",
       "      <td>1</td>\n",
       "      <td>0</td>\n",
       "      <td>0</td>\n",
       "      <td>0</td>\n",
       "      <td>0.681429</td>\n",
       "      <td>2.771075</td>\n",
       "    </tr>\n",
       "  </tbody>\n",
       "</table>\n",
       "<p>5 rows × 26 columns</p>\n",
       "</div>"
      ],
      "text/plain": [
       "  CUST_ID      BALANCE  BALANCE_FREQUENCY  PURCHASES  ONEOFF_PURCHASES  \\\n",
       "0  C10001    40.900749           0.818182      95.40              0.00   \n",
       "1  C10002  3202.467416           0.909091       0.00              0.00   \n",
       "2  C10003  2495.148862           1.000000     773.17            773.17   \n",
       "3  C10004  1666.670542           0.636364    1499.00           1499.00   \n",
       "4  C10005   817.714335           1.000000      16.00             16.00   \n",
       "\n",
       "   INSTALLMENTS_PURCHASES  CASH_ADVANCE  PURCHASES_FREQUENCY  \\\n",
       "0                    95.4      0.000000             0.166667   \n",
       "1                     0.0   6442.945483             0.000000   \n",
       "2                     0.0      0.000000             1.000000   \n",
       "3                     0.0    205.788017             0.083333   \n",
       "4                     0.0      0.000000             0.083333   \n",
       "\n",
       "   ONEOFF_PURCHASES_FREQUENCY  PURCHASES_INSTALLMENTS_FREQUENCY  \\\n",
       "0                    0.000000                          0.083333   \n",
       "1                    0.000000                          0.000000   \n",
       "2                    1.000000                          0.000000   \n",
       "3                    0.083333                          0.000000   \n",
       "4                    0.083333                          0.000000   \n",
       "\n",
       "       ...        PRC_FULL_PAYMENT  TENURE  MONTHLY_AVG_PURCHASE  \\\n",
       "0      ...                0.000000      12              7.950000   \n",
       "1      ...                0.222222      12              0.000000   \n",
       "2      ...                0.000000      12             64.430833   \n",
       "3      ...                0.000000      12            124.916667   \n",
       "4      ...                0.000000      12              1.333333   \n",
       "\n",
       "   MONTHLY_AVG_CASH_ADVANCE  PURCHASE_COUNT_BY_TYPE_ONE_OFF  \\\n",
       "0                  0.000000                               0   \n",
       "1                536.912124                               0   \n",
       "2                  0.000000                               1   \n",
       "3                 17.149001                               1   \n",
       "4                  0.000000                               1   \n",
       "\n",
       "   PURCHASE_COUNT_BY_TYPE_INSTALLMENT  PURCHASE_COUNT_BY_TYPE_BOTH  \\\n",
       "0                                   1                            0   \n",
       "1                                   0                            0   \n",
       "2                                   0                            0   \n",
       "3                                   0                            0   \n",
       "4                                   0                            0   \n",
       "\n",
       "   CASH_ADVANCE_COUNT  LIMIT_USAGE  PAYMENT_RATIO  \n",
       "0                   0     0.040901       1.446508  \n",
       "1                   1     0.457495       3.826241  \n",
       "2                   0     0.332687       0.991682  \n",
       "3                   1     0.222223       0.000000  \n",
       "4                   0     0.681429       2.771075  \n",
       "\n",
       "[5 rows x 26 columns]"
      ]
     },
     "execution_count": 18,
     "metadata": {},
     "output_type": "execute_result"
    }
   ],
   "source": [
    "cc_data.head()"
   ]
  },
  {
   "cell_type": "code",
   "execution_count": 35,
   "metadata": {},
   "outputs": [
    {
     "data": {
      "text/html": [
       "<div>\n",
       "<style scoped>\n",
       "    .dataframe tbody tr th:only-of-type {\n",
       "        vertical-align: middle;\n",
       "    }\n",
       "\n",
       "    .dataframe tbody tr th {\n",
       "        vertical-align: top;\n",
       "    }\n",
       "\n",
       "    .dataframe thead th {\n",
       "        text-align: right;\n",
       "    }\n",
       "</style>\n",
       "<table border=\"1\" class=\"dataframe\">\n",
       "  <thead>\n",
       "    <tr style=\"text-align: right;\">\n",
       "      <th></th>\n",
       "      <th>CASH_ADVANCE_TRX</th>\n",
       "      <th>PURCHASES_TRX</th>\n",
       "      <th>MONTHLY_AVG_PURCHASE</th>\n",
       "      <th>MONTHLY_AVG_CASH_ADVANCE</th>\n",
       "      <th>PURCHASE_COUNT_BY_TYPE_ONE_OFF</th>\n",
       "      <th>PURCHASE_COUNT_BY_TYPE_INSTALLMENT</th>\n",
       "      <th>PURCHASE_COUNT_BY_TYPE_BOTH</th>\n",
       "      <th>CASH_ADVANCE_COUNT</th>\n",
       "      <th>LIMIT_USAGE</th>\n",
       "      <th>PAYMENT_RATIO</th>\n",
       "    </tr>\n",
       "  </thead>\n",
       "  <tbody>\n",
       "    <tr>\n",
       "      <th>0</th>\n",
       "      <td>0</td>\n",
       "      <td>2</td>\n",
       "      <td>7.950000</td>\n",
       "      <td>0.000000</td>\n",
       "      <td>0</td>\n",
       "      <td>1</td>\n",
       "      <td>0</td>\n",
       "      <td>0</td>\n",
       "      <td>0.040901</td>\n",
       "      <td>1.446508</td>\n",
       "    </tr>\n",
       "    <tr>\n",
       "      <th>1</th>\n",
       "      <td>4</td>\n",
       "      <td>0</td>\n",
       "      <td>0.000000</td>\n",
       "      <td>536.912124</td>\n",
       "      <td>0</td>\n",
       "      <td>0</td>\n",
       "      <td>0</td>\n",
       "      <td>1</td>\n",
       "      <td>0.457495</td>\n",
       "      <td>3.826241</td>\n",
       "    </tr>\n",
       "    <tr>\n",
       "      <th>2</th>\n",
       "      <td>0</td>\n",
       "      <td>12</td>\n",
       "      <td>64.430833</td>\n",
       "      <td>0.000000</td>\n",
       "      <td>1</td>\n",
       "      <td>0</td>\n",
       "      <td>0</td>\n",
       "      <td>0</td>\n",
       "      <td>0.332687</td>\n",
       "      <td>0.991682</td>\n",
       "    </tr>\n",
       "    <tr>\n",
       "      <th>3</th>\n",
       "      <td>1</td>\n",
       "      <td>1</td>\n",
       "      <td>124.916667</td>\n",
       "      <td>17.149001</td>\n",
       "      <td>1</td>\n",
       "      <td>0</td>\n",
       "      <td>0</td>\n",
       "      <td>1</td>\n",
       "      <td>0.222223</td>\n",
       "      <td>0.000000</td>\n",
       "    </tr>\n",
       "    <tr>\n",
       "      <th>4</th>\n",
       "      <td>0</td>\n",
       "      <td>1</td>\n",
       "      <td>1.333333</td>\n",
       "      <td>0.000000</td>\n",
       "      <td>1</td>\n",
       "      <td>0</td>\n",
       "      <td>0</td>\n",
       "      <td>0</td>\n",
       "      <td>0.681429</td>\n",
       "      <td>2.771075</td>\n",
       "    </tr>\n",
       "  </tbody>\n",
       "</table>\n",
       "</div>"
      ],
      "text/plain": [
       "   CASH_ADVANCE_TRX  PURCHASES_TRX  MONTHLY_AVG_PURCHASE  \\\n",
       "0                 0              2              7.950000   \n",
       "1                 4              0              0.000000   \n",
       "2                 0             12             64.430833   \n",
       "3                 1              1            124.916667   \n",
       "4                 0              1              1.333333   \n",
       "\n",
       "   MONTHLY_AVG_CASH_ADVANCE  PURCHASE_COUNT_BY_TYPE_ONE_OFF  \\\n",
       "0                  0.000000                               0   \n",
       "1                536.912124                               0   \n",
       "2                  0.000000                               1   \n",
       "3                 17.149001                               1   \n",
       "4                  0.000000                               1   \n",
       "\n",
       "   PURCHASE_COUNT_BY_TYPE_INSTALLMENT  PURCHASE_COUNT_BY_TYPE_BOTH  \\\n",
       "0                                   1                            0   \n",
       "1                                   0                            0   \n",
       "2                                   0                            0   \n",
       "3                                   0                            0   \n",
       "4                                   0                            0   \n",
       "\n",
       "   CASH_ADVANCE_COUNT  LIMIT_USAGE  PAYMENT_RATIO  \n",
       "0                   0     0.040901       1.446508  \n",
       "1                   1     0.457495       3.826241  \n",
       "2                   0     0.332687       0.991682  \n",
       "3                   1     0.222223       0.000000  \n",
       "4                   0     0.681429       2.771075  "
      ]
     },
     "execution_count": 35,
     "metadata": {},
     "output_type": "execute_result"
    }
   ],
   "source": [
    "# slice the data frame to include the important features\n",
    "cc_final_data = cc_data.iloc[:,[11,12,18,19,20,21,22,23,24,25]]\n",
    "cc_final_data.head()"
   ]
  },
  {
   "cell_type": "code",
   "execution_count": 38,
   "metadata": {},
   "outputs": [
    {
     "data": {
      "text/html": [
       "<div>\n",
       "<style scoped>\n",
       "    .dataframe tbody tr th:only-of-type {\n",
       "        vertical-align: middle;\n",
       "    }\n",
       "\n",
       "    .dataframe tbody tr th {\n",
       "        vertical-align: top;\n",
       "    }\n",
       "\n",
       "    .dataframe thead th {\n",
       "        text-align: right;\n",
       "    }\n",
       "</style>\n",
       "<table border=\"1\" class=\"dataframe\">\n",
       "  <thead>\n",
       "    <tr style=\"text-align: right;\">\n",
       "      <th></th>\n",
       "      <th>count</th>\n",
       "      <th>mean</th>\n",
       "      <th>std</th>\n",
       "      <th>min</th>\n",
       "      <th>25%</th>\n",
       "      <th>50%</th>\n",
       "      <th>75%</th>\n",
       "      <th>max</th>\n",
       "    </tr>\n",
       "  </thead>\n",
       "  <tbody>\n",
       "    <tr>\n",
       "      <th>CASH_ADVANCE_TRX</th>\n",
       "      <td>8950.0</td>\n",
       "      <td>3.248827</td>\n",
       "      <td>6.824647</td>\n",
       "      <td>0.0</td>\n",
       "      <td>0.000000</td>\n",
       "      <td>0.000000</td>\n",
       "      <td>4.000000</td>\n",
       "      <td>123.000000</td>\n",
       "    </tr>\n",
       "    <tr>\n",
       "      <th>PURCHASES_TRX</th>\n",
       "      <td>8950.0</td>\n",
       "      <td>14.709832</td>\n",
       "      <td>24.857649</td>\n",
       "      <td>0.0</td>\n",
       "      <td>1.000000</td>\n",
       "      <td>7.000000</td>\n",
       "      <td>17.000000</td>\n",
       "      <td>358.000000</td>\n",
       "    </tr>\n",
       "    <tr>\n",
       "      <th>MONTHLY_AVG_PURCHASE</th>\n",
       "      <td>8950.0</td>\n",
       "      <td>86.175173</td>\n",
       "      <td>180.508787</td>\n",
       "      <td>0.0</td>\n",
       "      <td>3.399375</td>\n",
       "      <td>31.936667</td>\n",
       "      <td>97.228333</td>\n",
       "      <td>4086.630833</td>\n",
       "    </tr>\n",
       "    <tr>\n",
       "      <th>MONTHLY_AVG_CASH_ADVANCE</th>\n",
       "      <td>8950.0</td>\n",
       "      <td>88.977984</td>\n",
       "      <td>193.136115</td>\n",
       "      <td>0.0</td>\n",
       "      <td>0.000000</td>\n",
       "      <td>0.000000</td>\n",
       "      <td>99.085196</td>\n",
       "      <td>3928.100980</td>\n",
       "    </tr>\n",
       "    <tr>\n",
       "      <th>PURCHASE_COUNT_BY_TYPE_ONE_OFF</th>\n",
       "      <td>8950.0</td>\n",
       "      <td>0.519330</td>\n",
       "      <td>0.499654</td>\n",
       "      <td>0.0</td>\n",
       "      <td>0.000000</td>\n",
       "      <td>1.000000</td>\n",
       "      <td>1.000000</td>\n",
       "      <td>1.000000</td>\n",
       "    </tr>\n",
       "    <tr>\n",
       "      <th>PURCHASE_COUNT_BY_TYPE_INSTALLMENT</th>\n",
       "      <td>8950.0</td>\n",
       "      <td>0.562458</td>\n",
       "      <td>0.496111</td>\n",
       "      <td>0.0</td>\n",
       "      <td>0.000000</td>\n",
       "      <td>1.000000</td>\n",
       "      <td>1.000000</td>\n",
       "      <td>1.000000</td>\n",
       "    </tr>\n",
       "    <tr>\n",
       "      <th>PURCHASE_COUNT_BY_TYPE_BOTH</th>\n",
       "      <td>8950.0</td>\n",
       "      <td>0.000000</td>\n",
       "      <td>0.000000</td>\n",
       "      <td>0.0</td>\n",
       "      <td>0.000000</td>\n",
       "      <td>0.000000</td>\n",
       "      <td>0.000000</td>\n",
       "      <td>0.000000</td>\n",
       "    </tr>\n",
       "    <tr>\n",
       "      <th>CASH_ADVANCE_COUNT</th>\n",
       "      <td>8950.0</td>\n",
       "      <td>0.482905</td>\n",
       "      <td>0.499736</td>\n",
       "      <td>0.0</td>\n",
       "      <td>0.000000</td>\n",
       "      <td>0.000000</td>\n",
       "      <td>1.000000</td>\n",
       "      <td>1.000000</td>\n",
       "    </tr>\n",
       "    <tr>\n",
       "      <th>LIMIT_USAGE</th>\n",
       "      <td>8950.0</td>\n",
       "      <td>0.388883</td>\n",
       "      <td>0.389722</td>\n",
       "      <td>0.0</td>\n",
       "      <td>0.041494</td>\n",
       "      <td>0.302720</td>\n",
       "      <td>0.717571</td>\n",
       "      <td>15.909951</td>\n",
       "    </tr>\n",
       "    <tr>\n",
       "      <th>PAYMENT_RATIO</th>\n",
       "      <td>8950.0</td>\n",
       "      <td>9.055705</td>\n",
       "      <td>118.175158</td>\n",
       "      <td>0.0</td>\n",
       "      <td>0.920843</td>\n",
       "      <td>2.076749</td>\n",
       "      <td>6.027054</td>\n",
       "      <td>6840.528861</td>\n",
       "    </tr>\n",
       "  </tbody>\n",
       "</table>\n",
       "</div>"
      ],
      "text/plain": [
       "                                     count       mean         std  min  \\\n",
       "CASH_ADVANCE_TRX                    8950.0   3.248827    6.824647  0.0   \n",
       "PURCHASES_TRX                       8950.0  14.709832   24.857649  0.0   \n",
       "MONTHLY_AVG_PURCHASE                8950.0  86.175173  180.508787  0.0   \n",
       "MONTHLY_AVG_CASH_ADVANCE            8950.0  88.977984  193.136115  0.0   \n",
       "PURCHASE_COUNT_BY_TYPE_ONE_OFF      8950.0   0.519330    0.499654  0.0   \n",
       "PURCHASE_COUNT_BY_TYPE_INSTALLMENT  8950.0   0.562458    0.496111  0.0   \n",
       "PURCHASE_COUNT_BY_TYPE_BOTH         8950.0   0.000000    0.000000  0.0   \n",
       "CASH_ADVANCE_COUNT                  8950.0   0.482905    0.499736  0.0   \n",
       "LIMIT_USAGE                         8950.0   0.388883    0.389722  0.0   \n",
       "PAYMENT_RATIO                       8950.0   9.055705  118.175158  0.0   \n",
       "\n",
       "                                         25%        50%        75%  \\\n",
       "CASH_ADVANCE_TRX                    0.000000   0.000000   4.000000   \n",
       "PURCHASES_TRX                       1.000000   7.000000  17.000000   \n",
       "MONTHLY_AVG_PURCHASE                3.399375  31.936667  97.228333   \n",
       "MONTHLY_AVG_CASH_ADVANCE            0.000000   0.000000  99.085196   \n",
       "PURCHASE_COUNT_BY_TYPE_ONE_OFF      0.000000   1.000000   1.000000   \n",
       "PURCHASE_COUNT_BY_TYPE_INSTALLMENT  0.000000   1.000000   1.000000   \n",
       "PURCHASE_COUNT_BY_TYPE_BOTH         0.000000   0.000000   0.000000   \n",
       "CASH_ADVANCE_COUNT                  0.000000   0.000000   1.000000   \n",
       "LIMIT_USAGE                         0.041494   0.302720   0.717571   \n",
       "PAYMENT_RATIO                       0.920843   2.076749   6.027054   \n",
       "\n",
       "                                            max  \n",
       "CASH_ADVANCE_TRX                     123.000000  \n",
       "PURCHASES_TRX                        358.000000  \n",
       "MONTHLY_AVG_PURCHASE                4086.630833  \n",
       "MONTHLY_AVG_CASH_ADVANCE            3928.100980  \n",
       "PURCHASE_COUNT_BY_TYPE_ONE_OFF         1.000000  \n",
       "PURCHASE_COUNT_BY_TYPE_INSTALLMENT     1.000000  \n",
       "PURCHASE_COUNT_BY_TYPE_BOTH            0.000000  \n",
       "CASH_ADVANCE_COUNT                     1.000000  \n",
       "LIMIT_USAGE                           15.909951  \n",
       "PAYMENT_RATIO                       6840.528861  "
      ]
     },
     "execution_count": 38,
     "metadata": {},
     "output_type": "execute_result"
    }
   ],
   "source": [
    "cc_final_data.describe().T"
   ]
  },
  {
   "cell_type": "markdown",
   "metadata": {},
   "source": [
    "1. The top 25% customers are spending equally on both purchases and cash advances\n",
    "2. Most customers are using the credit card only for making purchases and only 25% of the customers account for cash advance transactions\n",
    "3. However, the average spend on purchases and cash advances are almost equal\n",
    "4. One off purchases and installment purchases are almost equal in numbers\n",
    "5. However, no customer has done both the one-off purchase and installment purchase\n",
    "6. An average customer is using 30-40% of their total credit limit, however only 25% customers go above 70% limit usage\n",
    "7. Payment ratio is positive indicating that the customers are mostly paying over and above the minimum due"
   ]
  },
  {
   "cell_type": "markdown",
   "metadata": {},
   "source": [
    "## PCA (Principal Component Analysis)"
   ]
  },
  {
   "cell_type": "code",
   "execution_count": 41,
   "metadata": {},
   "outputs": [
    {
     "data": {
      "text/plain": [
       "(8950, 25)"
      ]
     },
     "execution_count": 41,
     "metadata": {},
     "output_type": "execute_result"
    }
   ],
   "source": [
    "# drop Customer ID\n",
    "cc_data.drop(['CUST_ID'], axis=1, inplace=True)\n",
    "cc_data.shape"
   ]
  },
  {
   "cell_type": "code",
   "execution_count": 46,
   "metadata": {},
   "outputs": [
    {
     "data": {
      "text/plain": [
       "Text(0,0.5,'Cummulative Explained Variance Ratio')"
      ]
     },
     "execution_count": 46,
     "metadata": {},
     "output_type": "execute_result"
    },
    {
     "data": {
      "image/png": "[encoded data removed]",
      "text/plain": [
       "<matplotlib.figure.Figure at 0x111657b70>"
      ]
     },
     "metadata": {},
     "output_type": "display_data"
    }
   ],
   "source": [
    "from sklearn.preprocessing import StandardScaler\n",
    "sc = StandardScaler().fit_transform(cc_data)\n",
    "from sklearn.decomposition import PCA\n",
    "pc = PCA(n_components=9).fit(sc)\n",
    "p = Series(pc.explained_variance_ratio_.cumsum()).plot()\n",
    "p.set_xlabel('No. of principal components')\n",
    "p.set_ylabel('Cummulative Explained Variance Ratio')"
   ]
  },
  {
   "cell_type": "markdown",
   "metadata": {},
   "source": [
    "8 Principal Components explain over 80% variance"
   ]
  },
  {
   "cell_type": "code",
   "execution_count": 54,
   "metadata": {},
   "outputs": [
    {
     "data": {
      "text/plain": [
       "Text(0,0.5,'PC2')"
      ]
     },
     "execution_count": 54,
     "metadata": {},
     "output_type": "execute_result"
    },
    {
     "data": {
      "image/png": "[encoded data removed]",
      "text/plain": [
       "<matplotlib.figure.Figure at 0x111657860>"
      ]
     },
     "metadata": {},
     "output_type": "display_data"
    }
   ],
   "source": [
    "pc = PCA(n_components=8, random_state=125).fit_transform(sc)\n",
    "from sklearn.cluster import KMeans, DBSCAN\n",
    "km = KMeans(n_clusters=4, random_state=777).fit(pc)\n",
    "plt.scatter(pc[:,0], pc[:,1], c=km.labels_, cmap='Spectral')\n",
    "plt.xlabel('PC1')\n",
    "plt.ylabel('PC2')"
   ]
  },
  {
   "cell_type": "markdown",
   "metadata": {},
   "source": [
    "4 clusters on PC1 vs. PC2 plane"
   ]
  },
  {
   "cell_type": "markdown",
   "metadata": {},
   "source": [
    "### Selecting the Optimum no. of Clusters"
   ]
  },
  {
   "cell_type": "code",
   "execution_count": 53,
   "metadata": {},
   "outputs": [],
   "source": [
    "from sklearn.metrics import silhouette_score, calinski_harabaz_score"
   ]
  },
  {
   "cell_type": "markdown",
   "metadata": {},
   "source": [
    "#### Silhoutte Score"
   ]
  },
  {
   "cell_type": "code",
   "execution_count": 56,
   "metadata": {},
   "outputs": [
    {
     "data": {
      "image/png": "[encoded data removed]",
      "text/plain": [
       "<matplotlib.figure.Figure at 0x10a96b358>"
      ]
     },
     "metadata": {},
     "output_type": "display_data"
    }
   ],
   "source": [
    "k_range = range(2, 10)\n",
    "scores = []\n",
    "for k in k_range:\n",
    "    km = KMeans(n_clusters=k, random_state=7)\n",
    "    km.fit_transform(pc)\n",
    "    scores.append(silhouette_score(pc,km.labels_))\n",
    "plt.plot(k_range, scores)\n",
    "plt.xlabel('Number of clusters')\n",
    "plt.ylabel('Silhouette Coefficient')\n",
    "plt.grid(True)"
   ]
  },
  {
   "cell_type": "markdown",
   "metadata": {},
   "source": [
    "#### Calinski Harabaz Score"
   ]
  },
  {
   "cell_type": "code",
   "execution_count": 57,
   "metadata": {},
   "outputs": [
    {
     "data": {
      "image/png": "[encoded data removed]",
      "text/plain": [
       "<matplotlib.figure.Figure at 0x11083a2e8>"
      ]
     },
     "metadata": {},
     "output_type": "display_data"
    }
   ],
   "source": [
    "k_range = range(2, 10)\n",
    "scores = []\n",
    "for k in k_range:\n",
    "    km = KMeans(n_clusters=k, random_state=1)\n",
    "    km.fit_transform(pc)\n",
    "    scores.append(calinski_harabaz_score(pc,km.labels_))\n",
    "plt.plot(k_range, scores)\n",
    "plt.xlabel('Number of clusters')\n",
    "plt.ylabel('Calinski Harabaz Score')\n",
    "plt.grid(True)"
   ]
  },
  {
   "cell_type": "markdown",
   "metadata": {},
   "source": [
    "#### Check the inertia or within-cluster sum-of-squares"
   ]
  },
  {
   "cell_type": "code",
   "execution_count": 58,
   "metadata": {},
   "outputs": [
    {
     "data": {
      "image/png": "[encoded data removed]",
      "text/plain": [
       "<matplotlib.figure.Figure at 0x110835eb8>"
      ]
     },
     "metadata": {},
     "output_type": "display_data"
    }
   ],
   "source": [
    "k_range = range(2, 10)\n",
    "scores = []\n",
    "for k in k_range:\n",
    "    km = KMeans(n_clusters=k, random_state=1)\n",
    "    km.fit_transform(pc)\n",
    "    scores.append(km.inertia_)\n",
    "plt.plot(k_range, scores)\n",
    "plt.xlabel('Number of clusters')\n",
    "plt.ylabel('Inertia')\n",
    "plt.grid(True)"
   ]
  },
  {
   "cell_type": "markdown",
   "metadata": {},
   "source": [
    "### Based on the above scores, we can pick k=3"
   ]
  },
  {
   "cell_type": "markdown",
   "metadata": {},
   "source": [
    "### k=3"
   ]
  },
  {
   "cell_type": "code",
   "execution_count": 89,
   "metadata": {},
   "outputs": [
    {
     "name": "stderr",
     "output_type": "stream",
     "text": [
      "/Users/kanuamit/anaconda3/lib/python3.6/site-packages/ipykernel_launcher.py:2: SettingWithCopyWarning: \n",
      "A value is trying to be set on a copy of a slice from a DataFrame.\n",
      "Try using .loc[row_indexer,col_indexer] = value instead\n",
      "\n",
      "See the caveats in the documentation: http://pandas.pydata.org/pandas-docs/stable/indexing.html#indexing-view-versus-copy\n",
      "  \n"
     ]
    },
    {
     "data": {
      "text/html": [
       "<div>\n",
       "<style scoped>\n",
       "    .dataframe tbody tr th:only-of-type {\n",
       "        vertical-align: middle;\n",
       "    }\n",
       "\n",
       "    .dataframe tbody tr th {\n",
       "        vertical-align: top;\n",
       "    }\n",
       "\n",
       "    .dataframe thead th {\n",
       "        text-align: right;\n",
       "    }\n",
       "</style>\n",
       "<table border=\"1\" class=\"dataframe\">\n",
       "  <thead>\n",
       "    <tr style=\"text-align: right;\">\n",
       "      <th>cluster</th>\n",
       "      <th>0</th>\n",
       "      <th>1</th>\n",
       "      <th>2</th>\n",
       "    </tr>\n",
       "  </thead>\n",
       "  <tbody>\n",
       "    <tr>\n",
       "      <th>CASH_ADVANCE_TRX</th>\n",
       "      <td>3.096591</td>\n",
       "      <td>0.424691</td>\n",
       "      <td>7.334022</td>\n",
       "    </tr>\n",
       "    <tr>\n",
       "      <th>PURCHASES_TRX</th>\n",
       "      <td>71.464489</td>\n",
       "      <td>14.494033</td>\n",
       "      <td>3.219433</td>\n",
       "    </tr>\n",
       "    <tr>\n",
       "      <th>MONTHLY_AVG_PURCHASE</th>\n",
       "      <td>499.692909</td>\n",
       "      <td>72.302123</td>\n",
       "      <td>20.110948</td>\n",
       "    </tr>\n",
       "    <tr>\n",
       "      <th>MONTHLY_AVG_CASH_ADVANCE</th>\n",
       "      <td>89.912221</td>\n",
       "      <td>8.757159</td>\n",
       "      <td>203.926449</td>\n",
       "    </tr>\n",
       "    <tr>\n",
       "      <th>PURCHASE_COUNT_BY_TYPE_ONE_OFF</th>\n",
       "      <td>0.975852</td>\n",
       "      <td>0.593827</td>\n",
       "      <td>0.317484</td>\n",
       "    </tr>\n",
       "    <tr>\n",
       "      <th>PURCHASE_COUNT_BY_TYPE_INSTALLMENT</th>\n",
       "      <td>0.927557</td>\n",
       "      <td>0.775103</td>\n",
       "      <td>0.181335</td>\n",
       "    </tr>\n",
       "    <tr>\n",
       "      <th>PURCHASE_COUNT_BY_TYPE_BOTH</th>\n",
       "      <td>0.000000</td>\n",
       "      <td>0.000000</td>\n",
       "      <td>0.000000</td>\n",
       "    </tr>\n",
       "    <tr>\n",
       "      <th>CASH_ADVANCE_COUNT</th>\n",
       "      <td>0.357955</td>\n",
       "      <td>0.146296</td>\n",
       "      <td>0.992026</td>\n",
       "    </tr>\n",
       "    <tr>\n",
       "      <th>LIMIT_USAGE</th>\n",
       "      <td>0.373572</td>\n",
       "      <td>0.247613</td>\n",
       "      <td>0.594836</td>\n",
       "    </tr>\n",
       "    <tr>\n",
       "      <th>PAYMENT_RATIO</th>\n",
       "      <td>12.498437</td>\n",
       "      <td>9.958046</td>\n",
       "      <td>7.044758</td>\n",
       "    </tr>\n",
       "  </tbody>\n",
       "</table>\n",
       "</div>"
      ],
      "text/plain": [
       "cluster                                      0          1           2\n",
       "CASH_ADVANCE_TRX                      3.096591   0.424691    7.334022\n",
       "PURCHASES_TRX                        71.464489  14.494033    3.219433\n",
       "MONTHLY_AVG_PURCHASE                499.692909  72.302123   20.110948\n",
       "MONTHLY_AVG_CASH_ADVANCE             89.912221   8.757159  203.926449\n",
       "PURCHASE_COUNT_BY_TYPE_ONE_OFF        0.975852   0.593827    0.317484\n",
       "PURCHASE_COUNT_BY_TYPE_INSTALLMENT    0.927557   0.775103    0.181335\n",
       "PURCHASE_COUNT_BY_TYPE_BOTH           0.000000   0.000000    0.000000\n",
       "CASH_ADVANCE_COUNT                    0.357955   0.146296    0.992026\n",
       "LIMIT_USAGE                           0.373572   0.247613    0.594836\n",
       "PAYMENT_RATIO                        12.498437   9.958046    7.044758"
      ]
     },
     "execution_count": 89,
     "metadata": {},
     "output_type": "execute_result"
    }
   ],
   "source": [
    "km = KMeans(n_clusters=3, random_state=777).fit(pc)\n",
    "cc_final_data['cluster']=km.labels_\n",
    "cc_final_data.groupby('cluster').mean().T"
   ]
  },
  {
   "cell_type": "code",
   "execution_count": 90,
   "metadata": {},
   "outputs": [
    {
     "data": {
      "text/plain": [
       "1    4860\n",
       "2    3386\n",
       "0     704\n",
       "Name: cluster, dtype: int64"
      ]
     },
     "execution_count": 90,
     "metadata": {},
     "output_type": "execute_result"
    }
   ],
   "source": [
    "# No. of customers in the clusters\n",
    "cc_final_data['cluster'].value_counts()"
   ]
  },
  {
   "cell_type": "markdown",
   "metadata": {},
   "source": [
    "# Conclusion (Cluster Analysis)"
   ]
  },
  {
   "cell_type": "markdown",
   "metadata": {},
   "source": [
    "### 1. Cluster/Segment 1:\n",
    "    \n",
    "    1.1 Makes high value purchases\n",
    "    \n",
    "    1.2 Highest monthly average purchase\n",
    "    \n",
    "    1.3 Decent cash advance usage\n",
    "    \n",
    "    1.4 Most purchases in both one-off as well as installment purchases\n",
    "    \n",
    "    1.5 Utilizes on an average ~37% of the limit\n",
    "    \n",
    "    1.6 Tries to settle their dues faster by making high payments over & above the minimum due\n",
    "\n",
    "### 2. Cluster/Segment 2:\n",
    "    \n",
    "    2.1 Low Cash Advance utilization\n",
    "    \n",
    "    2.2 Makes average value purchases\n",
    "    \n",
    "    2.3 Does more installment type purchases\n",
    "    \n",
    "    2.4 Utilizes only ~25% (avg.) of their credit limit\n",
    "    \n",
    "    2.5 Pays over and above the minimum due\n",
    "\n",
    "### 3. Cluster/Segment 3:\n",
    "    \n",
    "    3.1 Highest number of Cash Advance utilization\n",
    "    \n",
    "    3.2 Highest Average Cash Advance balance\n",
    "    \n",
    "    3.3 Every customer in this cluster utilizes Cash Advance facility\n",
    "    \n",
    "    3.4 Utiizes ~60% (avg.) of the credit limit\n",
    "    \n",
    "    3.5 However, pays back over & above the minimum due"
   ]
  },
  {
   "cell_type": "markdown",
   "metadata": {},
   "source": [
    "### Key Visualizations"
   ]
  },
  {
   "cell_type": "code",
   "execution_count": 93,
   "metadata": {},
   "outputs": [
    {
     "data": {
      "text/plain": [
       "<seaborn.axisgrid.FacetGrid at 0x1a27f2b080>"
      ]
     },
     "execution_count": 93,
     "metadata": {},
     "output_type": "execute_result"
    },
    {
     "data": {
      "image/png": "[encoded data removed]",
      "text/plain": [
       "<matplotlib.figure.Figure at 0x1a28e971d0>"
      ]
     },
     "metadata": {},
     "output_type": "display_data"
    }
   ],
   "source": [
    "sns.lmplot(x = \"CASH_ADVANCE_TRX\", y = 'MONTHLY_AVG_CASH_ADVANCE', data = cc_final_data, hue = \"cluster\", \n",
    "           palette=\"Set1\", fit_reg = False)"
   ]
  },
  {
   "cell_type": "code",
   "execution_count": 94,
   "metadata": {},
   "outputs": [
    {
     "data": {
      "text/plain": [
       "<seaborn.axisgrid.FacetGrid at 0x1a28d18b70>"
      ]
     },
     "execution_count": 94,
     "metadata": {},
     "output_type": "execute_result"
    },
    {
     "data": {
      "image/png": "[encoded data removed]",
      "text/plain": [
       "<matplotlib.figure.Figure at 0x1a28d182e8>"
      ]
     },
     "metadata": {},
     "output_type": "display_data"
    }
   ],
   "source": [
    "sns.lmplot(x = \"PURCHASES_TRX\", y = 'MONTHLY_AVG_PURCHASE', data = cc_final_data, hue = \"cluster\", \n",
    "           palette=\"Set1\", fit_reg = False)"
   ]
  },
  {
   "cell_type": "code",
   "execution_count": 99,
   "metadata": {},
   "outputs": [
    {
     "data": {
      "text/plain": [
       "<seaborn.axisgrid.FacetGrid at 0x1a29835240>"
      ]
     },
     "execution_count": 99,
     "metadata": {},
     "output_type": "execute_result"
    },
    {
     "data": {
      "image/png": "[encoded data removed]",
      "text/plain": [
       "<matplotlib.figure.Figure at 0x1a2982d550>"
      ]
     },
     "metadata": {},
     "output_type": "display_data"
    }
   ],
   "source": [
    "sns.lmplot(x = \"MONTHLY_AVG_CASH_ADVANCE\", y = 'MONTHLY_AVG_PURCHASE', data = cc_final_data, hue = \"cluster\", \n",
    "           palette=\"Set1\", fit_reg = False)"
   ]
  },
  {
   "cell_type": "markdown",
   "metadata": {},
   "source": [
    "# Strategic Insights"
   ]
  },
  {
   "cell_type": "markdown",
   "metadata": {},
   "source": [
    "### For Cluster 1 : \n",
    "1) To enhance their cash utilization we can look at reducing their interest rate on cash withdrawals \n",
    "\n",
    "2) Reduce their interest rate on conversion of a purchse to monthly emis as this will up their chances of converting purchases to emis and not be in a hurry to pay them off. This in turn will indirectly increase their buying power and the chances of them spending more on their card \n",
    "\n",
    "3) Since they tend to spend more we should look at a good monthly reward system for purchases over a certain amount. The reward must be highly tangible to motivate this set to be loyal to our card \n",
    "\n",
    "4) These people pay more than the minimum due and that too on time : - can we look at waiving off fine on exceeding due date by say 15 days ? this will give them more time and allow us to earn more interest\n",
    "\n",
    "### For Cluster 2 : \n",
    "1) Again we should look at reducing interest on cash utilization to enhance their cash withdrawals \n",
    "\n",
    "2) Reduce the interest on installment conversions for the same logic as applicable for Cluster 1 \n",
    "\n",
    "3) Once they have converted their purchase to say 6 installments : can we look at giving them the offer to convert to 9 or say 12 for no additional charges and there by further free up their credit limit in a way which is rewarding to them and good for us as their chances to spend more go up \n",
    "\n",
    "4) Reward program on spending upwards of a certain amount\n",
    "\n",
    "### For Cluster 3 : \n",
    "1) Increase their cash utilization limit to allow them to withdraw more cash \n",
    "\n",
    "2) Reward program of cash back type on withdrawing more than a certain amount \n",
    "\n",
    "3) Again waiver of fine on due date exceedance by say 15 days to let them withdraw freely and pay when they can which allows us to earn more interest from them and gives them the time and flexibility they need \n",
    "\n",
    "4) Increase the daily cash allowance limit and also allow them to club the cash allowance limit of two months on special request and a slightly higher interest rate"
   ]
  }
 ],
 "metadata": {
  "kernelspec": {
   "display_name": "Python 3",
   "language": "python",
   "name": "python3"
  },
  "language_info": {
   "codemirror_mode": {
    "name": "ipython",
    "version": 3
   },
   "file_extension": ".py",
   "mimetype": "text/x-python",
   "name": "python",
   "nbconvert_exporter": "python",
   "pygments_lexer": "ipython3",
   "version": "3.6.4"
  }
 },
 "nbformat": 4,
 "nbformat_minor": 2
}
